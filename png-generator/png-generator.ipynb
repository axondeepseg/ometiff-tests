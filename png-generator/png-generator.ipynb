{
 "cells": [
  {
   "cell_type": "markdown",
   "source": [
    "# BIDS-Microscopy: empty png generator to create an example dataset"
   ],
   "metadata": {}
  },
  {
   "cell_type": "markdown",
   "source": [
    "Ref: https://stackoverflow.com/questions/12760389/how-can-i-create-an-empty-nm-png-file-in-python\r\n",
    "\r\n",
    "The present notebook can generate an empty png image. The png has no metadata, so the BIDS compatible JSON file generated must be completed manually."
   ],
   "metadata": {}
  },
  {
   "cell_type": "code",
   "execution_count": 2,
   "source": [
    "from PIL import Image\r\n",
    "\r\n",
    "img = Image.new(\"RGB\", (512, 512))\r\n",
    "img.save(\"sub-example_sample-1_tem.png\", \"PNG\")"
   ],
   "outputs": [],
   "metadata": {}
  },
  {
   "cell_type": "code",
   "execution_count": 1,
   "source": [
    "import json\r\n",
    "\r\n",
    "JSON_dict = {\r\n",
    "        \"Manufacturer\" : \"n/a\",\r\n",
    "        \"ManufacturersModelName\" : \"n/a\",\r\n",
    "        \"DeviceSerialNumber\" : \"n/a\",\r\n",
    "        \"StationName\" : \"n/a\",\r\n",
    "        \"SoftwareVersions\" : \"n/a\",\r\n",
    "        \"InstitutionName\" : \"n/a\",\r\n",
    "        \"InstitutionAddress\" : \"n/a\",\r\n",
    "        \"InstitutionalDepartmentName\" : \"n/a\",\r\n",
    "        \"BodyPart\" : \"n/a\",\r\n",
    "        \"BodyPartDetails\" : \"n/a\",\r\n",
    "        \"BodyPartDetailsOntology\" : \"n/a\",\r\n",
    "        \"Environment\" : \"n/a\",\r\n",
    "        \"SampleEmbedding\" : \"n/a\",\r\n",
    "        \"SampleFixation\" : \"n/a\",\r\n",
    "        \"SampleStaining\" : \"n/a\",\r\n",
    "        \"SamplePrimaryAntibody\" : \"n/a\",\r\n",
    "        \"SampleSecondaryAntibody\" : \"n/a\",\r\n",
    "        \"SliceThickness\" : \"n/a\",\r\n",
    "        \"SampleExtractionProtocol\" : \"n/a\",\r\n",
    "        \"SampleExtractionInstitution\" : \"n/a\",\r\n",
    "        \"ShrinkageFactor\" : \"n/a\",\r\n",
    "        \"PixelSize\" : \"n/a\",\r\n",
    "        \"PixelSizeUnits\" : \"n/a\",\r\n",
    "        \"ImageAcquisitionProtocol\" : \"n/a\",\r\n",
    "        \"OtherAcquisitionParameters\" : \"n/a\"\r\n",
    "}\r\n",
    "\r\n",
    "with open('sub-example_sample-1_tem.json', 'w') as fp:\r\n",
    "    json.dump(JSON_dict, fp, indent=8)"
   ],
   "outputs": [],
   "metadata": {}
  }
 ],
 "metadata": {
  "orig_nbformat": 4,
  "language_info": {
   "name": "python",
   "version": "3.9.2",
   "mimetype": "text/x-python",
   "codemirror_mode": {
    "name": "ipython",
    "version": 3
   },
   "pygments_lexer": "ipython3",
   "nbconvert_exporter": "python",
   "file_extension": ".py"
  },
  "kernelspec": {
   "name": "python3",
   "display_name": "Python 3.9.2 64-bit ('tpGBM': conda)"
  },
  "interpreter": {
   "hash": "f9f47139b3ecf26e4e26b9f9948ecd08682e11b3e13e7a13fc7862b2195d5f86"
  }
 },
 "nbformat": 4,
 "nbformat_minor": 2
}