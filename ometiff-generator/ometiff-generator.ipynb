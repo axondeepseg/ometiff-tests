{
 "cells": [
  {
   "cell_type": "markdown",
   "metadata": {},
   "source": [
    "# BIDS-Microscopy: empty ometiff generator to create an example dataset"
   ]
  },
  {
   "cell_type": "markdown",
   "metadata": {},
   "source": [
    "The present notebook can generate an empty OME-TIFF image (only with metadata) from a sample png. The png has no metadata, so the OME-XML is created with a typed string. From this metadata, a BIDS compatible JSON file is generated. The JSON fields are filled from the OME-TIFF's metadata as a dictionary."
   ]
  },
  {
   "cell_type": "code",
   "execution_count": 1,
   "metadata": {},
   "outputs": [],
   "source": [
    "import tifffile\n",
    "from ctypes import *\n",
    "cdll.LoadLibrary(\"C:/Users/eti_m/Documents/UK-Biobank/vips-dev-8.12/bin/libgobject-2.0-0.dll\")  # Change for the path where vips-dev-8.11 is\n",
    "cdll.LoadLibrary(\"C:/Users/eti_m/Documents/UK-Biobank/vips-dev-8.12/bin/libvips-42.dll\")        # idem\n",
    "import pyvips\n",
    "import json"
   ]
  },
  {
   "cell_type": "markdown",
   "metadata": {},
   "source": [
    "## Generating the empty OME-TIFF file"
   ]
  },
  {
   "cell_type": "code",
   "execution_count": 17,
   "metadata": {},
   "outputs": [],
   "source": [
    "empty_png = pyvips.Image.new_from_array([0])\n",
    "\n",
    "empty_png = empty_png.copy()\n",
    "empty_png.set_type(pyvips.GValue.gint_type, \"page-height\", empty_png.height)\n",
    "empty_png.set_type(pyvips.GValue.gstr_type, \"image-description\",\n",
    "f\"\"\"<?xml version=\"1.0\" encoding=\"UTF-8\"?><!-- Warning: this comment is an OME-XML metadata block, which contains crucial dimensional parameters and other important metadata. Please edit cautiously (if at all), and back up the original data before doing so. For more information, see the OME-TIFF web site: http://www.openmicroscopy.org/site/support/ome-model/ome-tiff/. --><OME xmlns=\"http://www.openmicroscopy.org/Schemas/OME/2016-06\" xmlns:xsi=\"http://www.w3.org/2001/XMLSchema-instance\" Creator=\"pyvips\" xsi:schemaLocation=\"http://www.openmicroscopy.org/Schemas/OME/2016-06 http://www.openmicroscopy.org/Schemas/OME/2016-06/ome.xsd\"><Experiment ID=\"Experiment:0\"><Description>Just a description.</Description></Experiment><Instrument ID=\"Instrument:0\"><Microscope/><Objective ID=\"Objective:0\" Immersion=\"Oil\" LensNA=\"1.4\" NominalMagnification=\"40.0\"/></Instrument><Image ID=\"Image:0\"><AcquisitionDate>2013-01-15T17:02:40</AcquisitionDate><Pixels BigEndian=\"false\" DimensionOrder=\"XYZTC\" ID=\"Pixels:0\" Interleaved=\"false\" SignificantBits=\"8\" SizeC=\"{empty_png.bands}\" SizeT=\"{1}\" SizeX=\"{empty_png.width}\" SizeY=\"{empty_png.height}\" SizeZ=\"{1}\" PhysicalSizeX=\"{1}\" PhysicalSizeXUnit=\"µm\" PhysicalSizeY=\"{1}\" PhysicalSizeYUnit=\"µm\" PhysicalSizeZ=\"{1}\" PhysicalSizeZUnit=\"µm\" Type=\"uint8\"></Pixels></Image></OME>\"\"\")\n",
    "\n",
    "empty_png.tiffsave('sub-example_sample-1_TEST.ome.tif',compression=\"jpeg\", tile=True, tile_width=512, tile_height=512, pyramid=True)"
   ]
  },
  {
   "cell_type": "markdown",
   "metadata": {},
   "source": [
    "## Generating the JSON file"
   ]
  },
  {
   "cell_type": "code",
   "execution_count": null,
   "metadata": {},
   "outputs": [],
   "source": [
    "with tifffile.TiffFile('sub-example_sample-1_SEM.ome.tif', is_ome=True) as ome:\n",
    "    print(ome.ome_metadata)\n",
    "    meta_dict = tifffile.xml2dict(ome.ome_metadata)['OME']\n",
    "    print(meta_dict)\n",
    "\n",
    "JSON_dict = {\n",
    "        \"Manufacturer\" : meta_dict['Instrument']['ManufacturerAndModel'],\n",
    "        \"ManufacturersModelName\" : meta_dict['Instrument']['ManufacturerAndModel'],\n",
    "        \"DeviceSerialNumber\" : \"n/a\",\n",
    "        \"StationName\" : \"n/a\",\n",
    "        \"SoftwareVersions\" : meta_dict['Dataset']['TechnicalInfo']['SoftwareVersions'],\n",
    "        \"InstitutionName\" : \"n/a\",\n",
    "        \"InstitutionAddress\" : \"n/a\",\n",
    "        \"InstitutionalDepartmentName\" : \"n/a\",\n",
    "        \"BodyPart\" : meta_dict['Specimen']['Location'],\n",
    "        \"BodyPartDetails\" : \"n/a\",\n",
    "        \"BodyPartDetailsOntology\" : \"n/a\",\n",
    "        \"Environment\" : meta_dict['Dataset']['Methods']['Environment'],\n",
    "        \"SampleEmbedding\" : meta_dict['Dataset']['Methods']['SampleEmbedding'],\n",
    "        \"SampleFixation\" : meta_dict['Dataset']['Methods']['SampleFixation'],\n",
    "        \"SampleStaining\" : meta_dict['Dataset']['Methods']['SampleStaining'],\n",
    "        \"SamplePrimaryAntibody\" : meta_dict['Dataset']['Methods']['SamplePrimaryAntibody'],\n",
    "        \"SampleSecondaryAntibody\" : meta_dict['Dataset']['Methods']['SampleSecondaryAntibody'],\n",
    "        \"SliceThickness\" : meta_dict['Dataset']['Methods']['SliceThickness'],\n",
    "        \"SampleExtractionProtocol\" : meta_dict['Dataset']['Methods']['SampleExtractionProtocol'],\n",
    "        \"SampleExtractionInstitution\" : meta_dict['Dataset']['Methods']['SampleExtractionInstitution'],\n",
    "        \"ShrinkageFactor\" : meta_dict['Dataset']['Methods']['ShrinkageFactor'],\n",
    "        \"PixelSize\" : [meta_dict['Image']['Pixels']['PhysicalSizeX'], meta_dict['Image']['Pixels']['PhysicalSizeY'], meta_dict['Image']['Pixels']['PhysicalSizeZ']],\n",
    "        \"PixelSizeUnits\" : meta_dict['Image']['Pixels']['PhysicalSizeXUnit'],\n",
    "        \"ImageAcquisitionProtocol\" : meta_dict['Dataset']['TechnicalInfo']['SoftwareVersions'],\n",
    "        \"OtherAcquisitionParameters\" : \"n/a\"\n",
    "}\n",
    "\n",
    "with open('sub-example_sample-1_SEM.json', 'w') as fp:\n",
    "    json.dump(JSON_dict, fp, indent=8)"
   ]
  }
 ],
 "metadata": {
  "interpreter": {
   "hash": "f9f47139b3ecf26e4e26b9f9948ecd08682e11b3e13e7a13fc7862b2195d5f86"
  },
  "kernelspec": {
   "display_name": "Python 3.9.2 64-bit ('tpGBM': conda)",
   "name": "python3"
  },
  "language_info": {
   "codemirror_mode": {
    "name": "ipython",
    "version": 3
   },
   "file_extension": ".py",
   "mimetype": "text/x-python",
   "name": "python",
   "nbconvert_exporter": "python",
   "pygments_lexer": "ipython3",
   "version": "3.9.2"
  }
 },
 "nbformat": 4,
 "nbformat_minor": 2
}
