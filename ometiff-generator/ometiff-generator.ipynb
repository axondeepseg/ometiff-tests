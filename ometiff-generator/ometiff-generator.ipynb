{
 "cells": [
  {
   "cell_type": "markdown",
   "source": [
    "# BIDS-Microscopy: empty ometiff generator to create an example dataset"
   ],
   "metadata": {}
  },
  {
   "cell_type": "markdown",
   "source": [
    "The present notebook can generate an empty OME-TIFF image (only with metadata) from a sample png. The png has no metadata, so the OME-XML is created with a typed string. From this metadata, a BIDS compatible JSON file is generated. The JSON fields are filled from the OME-TIFF's metadata as a dictionary."
   ],
   "metadata": {}
  },
  {
   "cell_type": "code",
   "execution_count": null,
   "source": [
    "import tifffile\r\n",
    "from ctypes import *\r\n",
    "cdll.LoadLibrary(\"C:/Users/eti_m/Documents/UK-Biobank/vips-dev-8.11/bin/libgobject-2.0-0.dll\")  # Change for the path where vips-dev-8.11 is\r\n",
    "cdll.LoadLibrary(\"C:/Users/eti_m/Documents/UK-Biobank/vips-dev-8.11/bin/libvips-42.dll\")        # idem\r\n",
    "import pyvips\r\n",
    "import json"
   ],
   "outputs": [],
   "metadata": {}
  },
  {
   "cell_type": "markdown",
   "source": [
    "## Generating the empty OME-TIFF file"
   ],
   "metadata": {}
  },
  {
   "cell_type": "code",
   "execution_count": null,
   "source": [
    "empty_png = pyvips.Image.new_from_array([0])\r\n",
    "\r\n",
    "empty_png = empty_png.copy()\r\n",
    "empty_png.set_type(pyvips.GValue.gint_type, \"page-height\", empty_png.height)\r\n",
    "empty_png.set_type(pyvips.GValue.gstr_type, \"image-description\",\r\n",
    "f\"\"\"<?xml version=\"1.0\" encoding=\"UTF-8\"?>\r\n",
    "<OME xmlns=\"http://www.openmicroscopy.org/Schemas/OME/2016-06\"\r\n",
    "    xmlns:xsi=\"http://www.w3.org/2001/XMLSchema-instance\"\r\n",
    "    xsi:schemaLocation=\"http://www.openmicroscopy.org/Schemas/OME/2016-06 http://www.openmicroscopy.org/Schemas/OME/2016-06/ome.xsd\">\r\n",
    "    <Contributors\r\n",
    "            Authors=\"Etienne Bergeron, Marie-Hélène Bourget\"\r\n",
    "            Acknowledgements=\"Some acknowledgements.\">\r\n",
    "    </Contributors>\r\n",
    "    <Dataset\r\n",
    "            SubjectScheme=\"Allen Mouse Brain Atlas Version2\"\r\n",
    "            License=\"MIT\"\r\n",
    "            NumberOfSubjects=\"number of lines in participants.tsv\"\r\n",
    "            NumberOfSamples=\"number of lines in samples.tsv\"\r\n",
    "            BIDSVersion=\"1.6.0 - BEP031 v0.0.5\"\r\n",
    "            ExperimentalLogFile=\"n/a\">\r\n",
    "            <Methods\r\n",
    "                SampleStaining=\"n/a\"\r\n",
    "                Environment=\"exvivo\"\r\n",
    "                SamplePrimaryAntibody=\"n/a\"\r\n",
    "                SampleSecondaryAntibody=\"n/a\"\r\n",
    "                SampleEmbedding=\"n/a\"\r\n",
    "                SampleFixation=\"4% paraformaldehyde, 2% glutaraldehyde\"\r\n",
    "                SampleStainingDescription=\"n/a\"\r\n",
    "                SampleExtractionProtocol=\"n/a\"\r\n",
    "                SampleExtractionInstitution=\"n/a\"\r\n",
    "                SliceThickness=\"{1}\"\r\n",
    "                ShrinkageFactor=\"{2}\"/>\r\n",
    "            <TechnicalInfo\r\n",
    "                ImageAcquisitionProtocol=\"n/a\"\r\n",
    "                SoftwareVersions=\"n/a\"/>  \r\n",
    "    </Dataset>\r\n",
    "    <Funders\r\n",
    "            Funding=\"n/a\"\r\n",
    "            FundingReferenceIdentifier=\"n/a\">\r\n",
    "    </Funders>\r\n",
    "    <Image>\r\n",
    "            <Pixels\r\n",
    "                PhysicalSizeX=\"{1}\"\r\n",
    "                PhysicalSizeXUnit=\"um\"\r\n",
    "                PhysicalSizeY=\"{1}\"\r\n",
    "                PhysicalSizeYUnit=\"um\"\r\n",
    "                PhysicalSizeZ=\"{1}\"             \r\n",
    "                PhysicalSizeZUnit=\"um\"\r\n",
    "                DimensionOrder=\"XYCZT\"\r\n",
    "                SizeC=\"{empty_png.bands}\"\r\n",
    "                SizeT=\"{1}\"\r\n",
    "                SizeX=\"{empty_png.width}\"\r\n",
    "                SizeY=\"{empty_png.height}\"\r\n",
    "                SizeZ=\"{1}\"\r\n",
    "                Type=\"uint8\">\r\n",
    "            </Pixels>\r\n",
    "    </Image>\r\n",
    "    <Instrument\r\n",
    "            MicroscopeType=\"SEM\"\r\n",
    "            ManufacturerAndModel=\"Hamamatsu C9600-12\"\r\n",
    "            ObjectiveImmersion=\"Oil\"\r\n",
    "            ObjectiveNA=\"n/a\"\r\n",
    "            ObjectiveMagnification=\"n/a\"\r\n",
    "            DetectorType=\"CCD\"\r\n",
    "            IlluminationType=\"Gas\"\r\n",
    "            IlluminationWavelength=\"n/a\"\r\n",
    "            DetectionWavelength=\"n/a\"\r\n",
    "            SampleTemperature=\"n/a\">\r\n",
    "    </Instrument>\r\n",
    "    <Publications\r\n",
    "            RelatedIdentifier=\"n/a\"\r\n",
    "            Citation=\"n/a\">\r\n",
    "    </Publications>\r\n",
    "    <Specimen\r\n",
    "            LocalID=\"'participant_id\"\r\n",
    "            NCBITaxonomy=\"mus musculus\"\r\n",
    "            Age=\"n/a\"\r\n",
    "            AgeUnit=\"years\"\r\n",
    "            AgeCategory=\"n/a\"\r\n",
    "            AgeMin=\"n/a\"\r\n",
    "            AgeMax=\"n/a\"\r\n",
    "            Sex=\"M\"\r\n",
    "            Handedness=\"n/a\"\r\n",
    "            Genotype=\"n/a\"\r\n",
    "            OrganLocalID=\"n/a\"\r\n",
    "            OrganName=\"n/a\"\r\n",
    "            SampleLocalID=\"n/a\"\r\n",
    "            Derived_from=\"n/a\"\r\n",
    "            Atlas=\"n/a\"\r\n",
    "            SampleType=\"n/a\"\r\n",
    "            Location=\"CSPINE\"\r\n",
    "            ExperimentalGroup=\"n/a\"\r\n",
    "            Strain=\"n/a\"\r\n",
    "            RRIDStrain=\"n/a\">\r\n",
    "    </Specimen>\r\n",
    "</OME>\"\"\")\r\n",
    "\r\n",
    "empty_png.tiffsave('sub-example_sample-1_sem.ome.tif',compression=\"jpeg\", tile=True, tile_width=512, tile_height=512, pyramid=True)"
   ],
   "outputs": [],
   "metadata": {}
  },
  {
   "cell_type": "markdown",
   "source": [
    "## Generating the JSON file"
   ],
   "metadata": {}
  },
  {
   "cell_type": "code",
   "execution_count": null,
   "source": [
    "with tifffile.TiffFile('sub-example_sample-1_sem.ome.tif', is_ome=True) as ome:\r\n",
    "    print(ome.ome_metadata)\r\n",
    "    meta_dict = tifffile.xml2dict(ome.ome_metadata)['OME']\r\n",
    "    print(meta_dict)\r\n",
    "\r\n",
    "JSON_dict = {\r\n",
    "        \"Manufacturer\" : meta_dict['Instrument']['ManufacturerAndModel'],\r\n",
    "        \"ManufacturersModelName\" : meta_dict['Instrument']['ManufacturerAndModel'],\r\n",
    "        \"DeviceSerialNumber\" : \"n/a\",\r\n",
    "        \"StationName\" : \"n/a\",\r\n",
    "        \"SoftwareVersions\" : meta_dict['Dataset']['TechnicalInfo']['SoftwareVersions'],\r\n",
    "        \"InstitutionName\" : \"n/a\",\r\n",
    "        \"InstitutionAddress\" : \"n/a\",\r\n",
    "        \"InstitutionalDepartmentName\" : \"n/a\",\r\n",
    "        \"BodyPart\" : meta_dict['Specimen']['Location'],\r\n",
    "        \"BodyPartDetails\" : \"n/a\",\r\n",
    "        \"BodyPartDetailsOntology\" : \"n/a\",\r\n",
    "        \"Environment\" : meta_dict['Dataset']['Methods']['Environment'],\r\n",
    "        \"SampleEmbedding\" : meta_dict['Dataset']['Methods']['SampleEmbedding'],\r\n",
    "        \"SampleFixation\" : meta_dict['Dataset']['Methods']['SampleFixation'],\r\n",
    "        \"SampleStaining\" : meta_dict['Dataset']['Methods']['SampleStaining'],\r\n",
    "        \"SamplePrimaryAntibody\" : meta_dict['Dataset']['Methods']['SamplePrimaryAntibody'],\r\n",
    "        \"SampleSecondaryAntibody\" : meta_dict['Dataset']['Methods']['SampleSecondaryAntibody'],\r\n",
    "        \"SliceThickness\" : meta_dict['Dataset']['Methods']['SliceThickness'],\r\n",
    "        \"SampleExtractionProtocol\" : meta_dict['Dataset']['Methods']['SampleExtractionProtocol'],\r\n",
    "        \"SampleExtractionInstitution\" : meta_dict['Dataset']['Methods']['SampleExtractionInstitution'],\r\n",
    "        \"ShrinkageFactor\" : meta_dict['Dataset']['Methods']['ShrinkageFactor'],\r\n",
    "        \"PixelSize\" : [meta_dict['Image']['Pixels']['PhysicalSizeX'], meta_dict['Image']['Pixels']['PhysicalSizeY'], meta_dict['Image']['Pixels']['PhysicalSizeZ']],\r\n",
    "        \"PixelSizeUnits\" : meta_dict['Image']['Pixels']['PhysicalSizeXUnit'],\r\n",
    "        \"ImageAcquisitionProtocol\" : meta_dict['Dataset']['TechnicalInfo']['SoftwareVersions'],\r\n",
    "        \"OtherAcquisitionParameters\" : \"n/a\"\r\n",
    "}\r\n",
    "\r\n",
    "with open('sub-example_sample-1_sem.json', 'w') as fp:\r\n",
    "    json.dump(JSON_dict, fp, indent=8)"
   ],
   "outputs": [],
   "metadata": {}
  }
 ],
 "metadata": {
  "interpreter": {
   "hash": "f9f47139b3ecf26e4e26b9f9948ecd08682e11b3e13e7a13fc7862b2195d5f86"
  },
  "kernelspec": {
   "name": "python3",
   "display_name": "Python 3.9.2 64-bit ('tpGBM': conda)"
  },
  "language_info": {
   "codemirror_mode": {
    "name": "ipython",
    "version": 3
   },
   "file_extension": ".py",
   "mimetype": "text/x-python",
   "name": "python",
   "nbconvert_exporter": "python",
   "pygments_lexer": "ipython3",
   "version": "3.9.2"
  }
 },
 "nbformat": 4,
 "nbformat_minor": 2
}