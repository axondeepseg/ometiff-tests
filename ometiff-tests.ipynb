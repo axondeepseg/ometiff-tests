{
 "cells": [
  {
   "source": [
    "# axondeepseg: ometiff-tests for ADS/ivadomed needs\n",
    "#### Tools:\n",
    "#### Tifffile (Python package)\n",
    "#### libvips (C Foreign Function Interface (CFFI) for Python)"
   ],
   "cell_type": "markdown",
   "metadata": {}
  },
  {
   "cell_type": "code",
   "execution_count": null,
   "metadata": {},
   "outputs": [],
   "source": [
    "import sys\n",
    "import tifffile\n",
    "import numpy as np\n",
    "from matplotlib import pyplot as plt\n",
    "from ctypes import *\n",
    "cdll.LoadLibrary(\"C:/Users/eti_m/Documents/UK-Biobank/vips-dev-8.11/bin/libgobject-2.0-0.dll\")  # Change for the path where vips-dev-8.11 is\n",
    "cdll.LoadLibrary(\"C:/Users/eti_m/Documents/UK-Biobank/vips-dev-8.11/bin/libvips-42.dll\")        # idem\n",
    "import pyvips"
   ]
  },
  {
   "cell_type": "markdown",
   "metadata": {},
   "source": [
    "## 1) Read OME-TIFF image + metadata\n",
    "\n",
    "Context: Here, we open an OME-TIFF file using the Python package *tifffile*. We use an OME-TIFF sample data from OME that can be found here: https://docs.openmicroscopy.org/ome-model/5.6.3/ome-tiff/data.html"
   ]
  },
  {
   "cell_type": "code",
   "execution_count": null,
   "metadata": {},
   "outputs": [],
   "source": [
    "with tifffile.TiffFile('tubhiswt_C0.ome.tif', is_ome=True) as tif:\n",
    "\ts1 = tif.series[0].asarray()                            # Read series 1 (highest-res) from OME-TIFF as a numpy array\n",
    "\tmeta = tif.ome_metadata                                 # Read OME metadata as a string\n",
    "print(\"Series 1 type:\", type(s1))\n",
    "print(\"Series 1 shape:\", str(s1.shape))\n",
    "print(\"Series 1 dims: (channels, time points, xdim, ydim)\")\n",
    "\n",
    "# Display of the different time points of the channels (not necessary)\n",
    "fig, axs = plt.subplots(nrows = s1.shape[0], ncols = s1.shape[1])\n",
    "fig.suptitle('Time points of the channels of the OME-TIFF file')\n",
    "[axi.set_axis_off() for axi in axs.ravel()]\n",
    "for t in range(s1.shape[1]):\n",
    "    for c in range(s1.shape[0]):\n",
    "        axs[c,t].imshow(s1[c,t,:,:], cmap='gray')\n",
    "fig.set_size_inches(20, 2*s1.shape[0])\n",
    "plt.show()\n",
    "\n",
    "# Convertion XML string to dict\n",
    "meta_dict = tifffile.xml2dict(meta)['OME']\n",
    "print(\"meta_dict:\", meta_dict)\n",
    "\n",
    "# In this example's OME-TIFF, the metadata is organized in different sub-dicts in meta_dict:\n",
    "#print(\"\\n\\n Experiment:\", meta_dict['Experiment'])\n",
    "#print(\"\\n\\n Experimenter:\", meta_dict['Experimenter'])\n",
    "#print(\"\\n\\n Instrument:\", meta_dict['Instrument'])\n",
    "#print(\"\\n\\n Image:\", meta_dict['Image'])\n",
    "#print(\"\\n\\n Creator:\", meta_dict['Creator'])\n",
    "#print(\"\\n\\n UUID:\", meta_dict['UUID'])\n",
    "\n",
    "# If we want to acces one specific field:\n",
    "print(\"\\n 'DimensionOrder' in the sub dict 'Pixels' and 'Image':\", meta_dict['Image']['Pixels']['DimensionOrder'])"
   ]
  },
  {
   "cell_type": "markdown",
   "metadata": {},
   "source": [
    "We notice a 'DimensionOrder'='XYZTC' and a shape '(C, T, Y, X)'. As we can see in the class *TiffFile* of the file *tifffile.py*, the shape (as well as the parameter 'axes') is reversed compared to 'DimensionOrder'. Because 'SizeZ'=1, the dimension doesn't appear in the shape, though it should be (2, 20, 1, 512, 512)."
   ]
  },
  {
   "cell_type": "markdown",
   "metadata": {},
   "source": [
    "## 2) Write OME-TIFF image + metadata\n",
    "\n",
    "Context: We also want to be able to write predictions (numpy arrays) as OME-TIFF. A random numpy array is generated and, using the Python package *tifffile*, the image is incorporated in a OME-TIFF file with some specific metadata fields."
   ]
  },
  {
   "cell_type": "code",
   "execution_count": null,
   "metadata": {},
   "outputs": [],
   "source": [
    "# Generating the random numpy array (dimension sizes are arbitrary)\n",
    "data = np.random.randn(1,10,3,72,108).astype('uint8')\n",
    "\n",
    "# Display of the different time points of the channels (not necessary)\n",
    "fig, axs = plt.subplots(nrows = data.shape[2], ncols = data.shape[1])\n",
    "fig.suptitle('Time points of the channels of the random numpy array')\n",
    "[axi.set_axis_off() for axi in axs.ravel()]\n",
    "for t in range(data.shape[1]):\n",
    "    for c in range(data.shape[2]):\n",
    "        axs[c,t].imshow(data[0,t,c,:,:], cmap='gray')\n",
    "fig.set_size_inches(20, 2*data.shape[2])\n",
    "plt.show()\n",
    "\n",
    "# Here are the metadata fields that we can add in the parameter 'metadata={ }' to the OME-TIFF with tifffile:\n",
    "#\n",
    "# Under 'Image' and 'Pixels':\n",
    "# - Name, AcquisitionDate, Description, PhysicalSizeX, PhysicalSizeXUnit, PhysicalSizeY, PhysicalSizeYUnit, PhysicalSizeZ, PhysicalSizeZUnit,\n",
    "#   TimeIncrement, TimeIncrementUnit.\n",
    "#\n",
    "# Under 'Image', 'Pixels' and 'Plane':\n",
    "# - DeltaTUnit, ExposureTime, ExposureTimeUnit, PositionX, PositionXUnit, PositionY, PositionYUnit, PositionZ, PositionZUnit.\n",
    "# \n",
    "# Under 'Image', 'Pixels' and 'Channel':\n",
    "# - Name, AcquisitionMode, Color, ContrastMethod, EmissionWavelength, EmissionWavelengthUnit, ExcitationWavelength, ExcitationWavelengthUnit,\n",
    "#   Fluor, IlluminationType, NDFilter, PinholeSize, PinholeSizeUnit, PockelCellSetting.\n",
    "\n",
    "# When writing with tifffile, we have to specify the shape of the array in the parameter 'axes'. As the shape is (1,10,3,72,108) = (Z,T,C,Y,X), the parameter 'axes'='ZTCYX'. The metadata field \"DimensionOrder\" will be reversed, i.e. XYCTZ.\n",
    "tifffile.imwrite('ometiff-tests_random.ome.tif', data, compress=7, metadata={'axes': 'ZTCYX',\n",
    "                                                                    'Description':'Just a test OME-TIFF with random data.',\n",
    "                                                                    'PhysicalSizeX':'1',\n",
    "                                                                    'PhysicalSizeXUnit':'um',\n",
    "                                                                    'PhysicalSizeY':'2',\n",
    "                                                                    'PhysicalSizeYUnit':'um',\n",
    "                                                                    'PhysicalSizeZ':'0.5',      # Arbitrary values\n",
    "                                                                    'PhysicalSizeZUnit':'um'})"
   ]
  },
  {
   "cell_type": "code",
   "execution_count": null,
   "metadata": {},
   "outputs": [],
   "source": [
    "#   From the class COMPRESSION in the tifffile.py file, here are the possible values of the compression parameter.\n",
    "#   While writing, we give to the parameter 'compress' the value related to the type of compression we want:\n",
    "#\n",
    "#            NONE = 1  # Uncompressed\n",
    "#            CCITTRLE = 2  # CCITT 1D\n",
    "#            CCITT_T4 = 3  # 'T4/Group 3 Fax',\n",
    "#            CCITT_T6 = 4  # 'T6/Group 4 Fax',\n",
    "#            LZW = 5\n",
    "#            OJPEG = 6  # old-style JPEG\n",
    "#            JPEG = 7\n",
    "#            ADOBE_DEFLATE = 8\n",
    "#            JBIG_BW = 9\n",
    "#            JBIG_COLOR = 10\n",
    "#            JPEG_99 = 99\n",
    "#            KODAK_262 = 262\n",
    "#            NEXT = 32766\n",
    "#            SONY_ARW = 32767\n",
    "#            PACKED_RAW = 32769\n",
    "#            SAMSUNG_SRW = 32770\n",
    "#            CCIRLEW = 32771\n",
    "#            SAMSUNG_SRW2 = 32772\n",
    "#            PACKBITS = 32773\n",
    "#            THUNDERSCAN = 32809\n",
    "#            IT8CTPAD = 32895\n",
    "#            IT8LW = 32896\n",
    "#            IT8MP = 32897\n",
    "#            IT8BL = 32898\n",
    "#            PIXARFILM = 32908\n",
    "#            PIXARLOG = 32909\n",
    "#            DEFLATE = 32946\n",
    "#            DCS = 32947\n",
    "#            APERIO_JP2000_YCBC = 33003  # Leica Aperio\n",
    "#            JPEG_2000_LOSSY = 33004  # BioFormats\n",
    "#            APERIO_JP2000_RGB = 33005  # Leica Aperio\n",
    "#            ALT_JPEG = 33007  # BioFormats\n",
    "#            JBIG = 34661\n",
    "#            SGILOG = 34676\n",
    "#            SGILOG24 = 34677\n",
    "#            JPEG2000 = 34712\n",
    "#            NIKON_NEF = 34713\n",
    "#            JBIG2 = 34715\n",
    "#            MDI_BINARY = 34718  # Microsoft Document Imaging\n",
    "#            MDI_PROGRESSIVE = 34719  # Microsoft Document Imaging\n",
    "#            MDI_VECTOR = 34720  # Microsoft Document Imaging\n",
    "#            LERC = 34887  # ESRI Lerc\n",
    "#            JPEG_LOSSY = 34892\n",
    "#            LZMA = 34925\n",
    "#            ZSTD_DEPRECATED = 34926\n",
    "#            WEBP_DEPRECATED = 34927\n",
    "#            PNG = 34933  # Objective Pathology Services\n",
    "#            JPEGXR = 34934  # Objective Pathology Services\n",
    "#            ZSTD = 50000\n",
    "#            WEBP = 50001\n",
    "#            JPEGXL = 50002  # JXL\n",
    "#            PIXTIFF = 50013"
   ]
  },
  {
   "cell_type": "code",
   "execution_count": null,
   "metadata": {},
   "outputs": [],
   "source": [
    "# Validation of the metadata dictionnary\n",
    "with tifffile.TiffFile('ometiff-tests_random.ome.tif', is_ome=True) as tif:\n",
    "\tmeta_random = tif.ome_metadata                                 # Read OME metadata as a string\n",
    "meta_dict_random = tifffile.xml2dict(meta_random)['OME']\n",
    "print(\"meta_dict:\", meta_dict_random)"
   ]
  },
  {
   "cell_type": "markdown",
   "metadata": {},
   "source": [
    "## 3) Convert different type files to OME-TIFF with metadata"
   ]
  },
  {
   "cell_type": "markdown",
   "metadata": {},
   "source": [
    "### 3.1) TIFF to OME-TIFF\n",
    "\n",
    "Context: We have an existing PNG file that we want to convert to a TIF file and finally in the OME-TIFF format using the Python package *pyvips*."
   ]
  },
  {
   "cell_type": "code",
   "execution_count": null,
   "metadata": {},
   "outputs": [],
   "source": [
    "# PNG to TIF\n",
    "png = pyvips.Image.new_from_file('77.png')\n",
    "png.tiffsave('77.tif')\n",
    "\n",
    "# TIF to OME-TIFF\n",
    "tif = pyvips.Image.new_from_file('77.tif')\n",
    "\n",
    "## Adding an alpha channel\n",
    "#if tif.hasalpha():\n",
    "#    tif = tif[:-1]\n",
    "\n",
    "## TIFF copy and metadata setting\n",
    "tif = tif.copy()\n",
    "tif.set_type(pyvips.GValue.gint_type, \"page-height\", tif.height)\n",
    "tif.set_type(pyvips.GValue.gstr_type, \"image-description\",\n",
    "f\"\"\"<?xml version=\"1.0\" encoding=\"UTF-8\"?>\n",
    "<OME xmlns=\"http://www.openmicroscopy.org/Schemas/OME/2016-06\"\n",
    "    xmlns:xsi=\"http://www.w3.org/2001/XMLSchema-instance\"\n",
    "    xsi:schemaLocation=\"http://www.openmicroscopy.org/Schemas/OME/2016-06 http://www.openmicroscopy.org/Schemas/OME/2016-06/ome.xsd\">\n",
    "    <Image ID=\"Image:0\">\n",
    "        <Pixels DimensionOrder=\"XYCZT\"\n",
    "                ID=\"Pixels:0\"\n",
    "                SizeC=\"{tif.bands}\"\n",
    "                SizeT=\"1\"\n",
    "                SizeX=\"{tif.width}\"\n",
    "                SizeY=\"{tif.height}\"\n",
    "                SizeZ=\"1\"\n",
    "                Type=\"uint8\">\n",
    "        </Pixels>\n",
    "    </Image>\n",
    "</OME>\"\"\")\n",
    "## Write data and metadata with pyvips\n",
    "tif.tiffsave('ometiff-tests_tif.ome.tif', compression=\"jpeg\", pyramid=True)"
   ]
  },
  {
   "cell_type": "markdown",
   "metadata": {},
   "source": [
    "### 3.2) NDPI to OME-TIFF\n",
    "Context: We have an existing multiresolution NDPI file that we want to convert in the OME-TIFF format. The multiresolution NDPI contains metadata that we want to read with *tifffile* and transfer to the OME-TIFF as well using *pyvips*."
   ]
  },
  {
   "cell_type": "markdown",
   "metadata": {},
   "source": [
    "#### 3.2.1) Read the NDPI file of interest"
   ]
  },
  {
   "cell_type": "code",
   "execution_count": null,
   "metadata": {},
   "outputs": [],
   "source": [
    "with tifffile.TiffFile('test3-TRITC_2_(560).ndpi', is_ndpi=True) as ndpi:\n",
    "\n",
    "    # Read data with tifffile (only to display the NDPI image. If not required, the following lines can be removed)\n",
    "    series1 = ndpi.pages[0].asarray()\n",
    "    print(\"Data shape:\", str(series1.shape), \"\\nData type:\", type(series1), \"\\nSeries 3:\")\n",
    "    plt.imshow(ndpi.pages[2].asarray())                        # Display of Series 3 (lower resolution) to save time\n",
    "    plt.show()\n",
    "\n",
    "    # Read metadata with tifffile\n",
    "    meta = ndpi.pages[0].ndpi_tags\n",
    "    print(\"\\nMetadata type:\", type(meta), \"\\nMetadata:\", meta)"
   ]
  },
  {
   "cell_type": "code",
   "execution_count": null,
   "metadata": {},
   "outputs": [],
   "source": [
    "# Extract metadata fields of interest\n",
    "print(\"'Make' field:\\t\\t\", meta['Make'])\n",
    "print(\"'Model' field:\\t\\t\", meta['Model'])\n",
    "print(\"'Software' field:\\t\", meta['Software'])"
   ]
  },
  {
   "cell_type": "markdown",
   "metadata": {},
   "source": [
    "#### 3.2.2) Generate the OMETIFF with the NDPI data"
   ]
  },
  {
   "cell_type": "code",
   "execution_count": null,
   "metadata": {},
   "outputs": [],
   "source": [
    "# Read with pyvips\n",
    "ndpi = pyvips.Image.new_from_file('test3-TRITC_2_(560).ndpi')\n",
    "\n",
    "# Adding an alpha channel\n",
    "if ndpi.hasalpha():\n",
    "    ndpi = ndpi[:-1]\n",
    "\n",
    "# NDPI copy and metadata setting\n",
    "ndpi = ndpi.copy()\n",
    "ndpi.set_type(pyvips.GValue.gint_type, \"page-height\", ndpi.height)\n",
    "ndpi.set_type(pyvips.GValue.gstr_type, \"image-description\",\n",
    "f\"\"\"<?xml version=\"1.0\" encoding=\"UTF-8\"?>\n",
    "<OME xmlns=\"http://www.openmicroscopy.org/Schemas/OME/2016-06\"\n",
    "    xmlns:xsi=\"http://www.w3.org/2001/XMLSchema-instance\"\n",
    "    xsi:schemaLocation=\"http://www.openmicroscopy.org/Schemas/OME/2016-06 http://www.openmicroscopy.org/Schemas/OME/2016-06/ome.xsd\">\n",
    "    <Contributors>\n",
    "    </Contributors>\n",
    "    <Dataset>\n",
    "        <technicalInfo>\n",
    "                SoftwareVersions=\"{meta['Software']}\"\n",
    "        </technicalInfo>\n",
    "    </Dataset>\n",
    "    <Funders>\n",
    "    </Funders>\n",
    "    <Image ID=\"Image:0\">\n",
    "        <Pixels DimensionOrder=\"XYCZT\"\n",
    "                ID=\"Pixels:0\"\n",
    "                SizeC=\"{ndpi.bands}\"\n",
    "                SizeT=\"1\"\n",
    "                SizeX=\"{ndpi.width}\"\n",
    "                SizeY=\"{ndpi.height}\"\n",
    "                SizeZ=\"1\"\n",
    "                Type=\"uint8\">\n",
    "        </Pixels>\n",
    "    </Image>\n",
    "    <Instrument \n",
    "            Make=\"{meta['Make']}\"\n",
    "            Model=\"{meta['Model']}\">\n",
    "    </Instrument>\n",
    "    <Publications>\n",
    "    </Publications>\n",
    "    <Specimen>\n",
    "    </Specimen>\n",
    "</OME>\"\"\")\n",
    "\n",
    "# Write data and metadata with pyvips\n",
    "ndpi.tiffsave('ometiff-tests_ndpi.ome.tif', compression=\"jpeg\", tile=True, tile_width=512, tile_height=512, pyramid=True)"
   ]
  },
  {
   "cell_type": "markdown",
   "metadata": {},
   "source": [
    "### (3.2.3) Validation by reading the generated OME-TIFF)"
   ]
  },
  {
   "cell_type": "code",
   "execution_count": null,
   "metadata": {},
   "outputs": [],
   "source": [
    "# Validation of the dimensions and the output image\n",
    "with tifffile.TiffFile('ometiff-tests_ndpi.ome.tif', is_ome=True) as test:\n",
    "    print(\"Data shape:\", str(test.pages[0].shape),\"= (Y,X,C)\", \"\\nData type:\", type(test.pages[0].asarray()), \"\\nSeries 6:\")\n",
    "    plt.imshow(test.pages[4].asarray())\n",
    "    plt.show()\n",
    "    test_meta_dict = tifffile.xml2dict(test.ome_metadata)['OME']\n",
    "\n",
    "print(\"\\n'DimensionOrder' in the sub dict 'Pixels' and 'Image':\", test_meta_dict['Image']['Pixels']['DimensionOrder'])\n",
    "print(\"'SizeX' in the sub dict 'Pixels' and 'Image':\", test_meta_dict['Image']['Pixels']['SizeX'])\n",
    "print(\"'SizeY' in the sub dict 'Pixels' and 'Image':\", test_meta_dict['Image']['Pixels']['SizeY'])\n",
    "print(\"'SizeC' in the sub dict 'Pixels' and 'Image':\", test_meta_dict['Image']['Pixels']['SizeC'])\n",
    "print(\"'SizeZ' in the sub dict 'Pixels' and 'Image':\", test_meta_dict['Image']['Pixels']['SizeZ'])\n",
    "print(\"'SizeT' in the sub dict 'Pixels' and 'Image':\", test_meta_dict['Image']['Pixels']['SizeT'])\n"
   ]
  },
  {
   "cell_type": "code",
   "execution_count": null,
   "metadata": {},
   "outputs": [],
   "source": [
    "# Validation of the metadata dictionnary\n",
    "print(test_meta_dict)"
   ]
  }
 ],
 "metadata": {
  "interpreter": {
   "hash": "f9f47139b3ecf26e4e26b9f9948ecd08682e11b3e13e7a13fc7862b2195d5f86"
  },
  "kernelspec": {
   "name": "python3",
   "display_name": "Python 3.9.2 64-bit ('tpGBM': conda)"
  },
  "language_info": {
   "codemirror_mode": {
    "name": "ipython",
    "version": 3
   },
   "file_extension": ".py",
   "mimetype": "text/x-python",
   "name": "python",
   "nbconvert_exporter": "python",
   "pygments_lexer": "ipython3",
   "version": "3.9.2"
  }
 },
 "nbformat": 4,
 "nbformat_minor": 2
}